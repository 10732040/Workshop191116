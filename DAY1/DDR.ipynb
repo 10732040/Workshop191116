{
 "cells": [
  {
   "cell_type": "markdown",
   "metadata": {},
   "source": [
    "###### 題目：台灣人口死亡因素\n",
    "作者：SALLY\n",
    "資料來源：https://statdb.dgbas.gov.tw/pxweb/Dialog/Saveshow.asp"
   ]
  },
  {
   "cell_type": "code",
   "execution_count": 177,
   "metadata": {
    "scrolled": false
   },
   "outputs": [
    {
     "data": {
      "text/html": [
       "<div>\n",
       "<style scoped>\n",
       "    .dataframe tbody tr th:only-of-type {\n",
       "        vertical-align: middle;\n",
       "    }\n",
       "\n",
       "    .dataframe tbody tr th {\n",
       "        vertical-align: top;\n",
       "    }\n",
       "\n",
       "    .dataframe thead th {\n",
       "        text-align: right;\n",
       "    }\n",
       "</style>\n",
       "<table border=\"1\" class=\"dataframe\">\n",
       "  <thead>\n",
       "    <tr style=\"text-align: right;\">\n",
       "      <th></th>\n",
       "      <th>RD</th>\n",
       "      <th>2008</th>\n",
       "      <th>2009</th>\n",
       "      <th>2010</th>\n",
       "      <th>2011</th>\n",
       "      <th>2012</th>\n",
       "      <th>AIR</th>\n",
       "    </tr>\n",
       "  </thead>\n",
       "  <tbody>\n",
       "    <tr>\n",
       "      <th>0</th>\n",
       "      <td>Malignant tumor</td>\n",
       "      <td>38913</td>\n",
       "      <td>39918</td>\n",
       "      <td>41046</td>\n",
       "      <td>42559</td>\n",
       "      <td>43665</td>\n",
       "      <td>20779</td>\n",
       "    </tr>\n",
       "    <tr>\n",
       "      <th>1</th>\n",
       "      <td>HEART</td>\n",
       "      <td>15726</td>\n",
       "      <td>15094</td>\n",
       "      <td>15675</td>\n",
       "      <td>16513</td>\n",
       "      <td>17121</td>\n",
       "      <td>20799</td>\n",
       "    </tr>\n",
       "    <tr>\n",
       "      <th>2</th>\n",
       "      <td>pneumonia</td>\n",
       "      <td>8661</td>\n",
       "      <td>8358</td>\n",
       "      <td>8909</td>\n",
       "      <td>9047</td>\n",
       "      <td>9314</td>\n",
       "      <td>20771</td>\n",
       "    </tr>\n",
       "    <tr>\n",
       "      <th>3</th>\n",
       "      <td>Cerebrovascular</td>\n",
       "      <td>10663</td>\n",
       "      <td>10383</td>\n",
       "      <td>10134</td>\n",
       "      <td>10823</td>\n",
       "      <td>11061</td>\n",
       "      <td>20721</td>\n",
       "    </tr>\n",
       "    <tr>\n",
       "      <th>4</th>\n",
       "      <td>I</td>\n",
       "      <td>8036</td>\n",
       "      <td>8230</td>\n",
       "      <td>8211</td>\n",
       "      <td>9081</td>\n",
       "      <td>9281</td>\n",
       "      <td>21788</td>\n",
       "    </tr>\n",
       "  </tbody>\n",
       "</table>\n",
       "</div>"
      ],
      "text/plain": [
       "                RD   2008   2009   2010   2011   2012    AIR\n",
       "0  Malignant tumor  38913  39918  41046  42559  43665  20779\n",
       "1            HEART  15726  15094  15675  16513  17121  20799\n",
       "2        pneumonia   8661   8358   8909   9047   9314  20771\n",
       "3  Cerebrovascular  10663  10383  10134  10823  11061  20721\n",
       "4                I   8036   8230   8211   9081   9281  21788"
      ]
     },
     "execution_count": 177,
     "metadata": {},
     "output_type": "execute_result"
    }
   ],
   "source": [
    "%matplotlib inline\n",
    "import matplotlib.pyplot as plt\n",
    "import pandas as pd\n",
    "import numpy as np\n",
    "\n",
    "# This is a custom matplotlib style that I use for most of my charts\n",
    "# plt.style.use('tableau10.mplstyle')\n",
    "\n",
    "DD_data = pd.read_csv('DD.csv')\n",
    "DD_data.head()"
   ]
  },
  {
   "cell_type": "markdown",
   "metadata": {},
   "source": [
    "Ghana\n",
    "Nepal\n",
    "Gambia\n",
    "Uzbekistan\n",
    "Djibouti\n",
    "Ecuador\n",
    "Tajikistan\n",
    "Sao Tome and Principe\n",
    "\n",
    "兒童於 2017 年的失學人數"
   ]
  },
  {
   "cell_type": "code",
   "execution_count": 182,
   "metadata": {},
   "outputs": [
    {
     "data": {
      "image/png": "[encoded data removed]",
      "text/plain": [
       "<Figure size 1080x504 with 1 Axes>"
      ]
     },
     "metadata": {
      "needs_background": "light"
     },
     "output_type": "display_data"
    }
   ],
   "source": [
    "fig = plt.figure(figsize=(15, 7))\n",
    "ax1 = fig.add_subplot(111)\n",
    "\n",
    "for (i, row) in DD_data .iterrows():\n",
    "    plt.bar([i], [row['2008']],\n",
    "            color=['red'], width=0.5, align='edge', edgecolor='none')\n",
    "    plt.bar([i], [row['2009']],\n",
    "            color=['#fc6900'], width=0.4, align='edge', edgecolor='none')\n",
    "    plt.bar([i],[row['2010']],\n",
    "            color=['#fceb00'], width=0.3, align='edge', edgecolor='none')\n",
    "    plt.bar([i], [row['2011']],\n",
    "            color=['green'], width=0.2, align='edge', edgecolor='none')\n",
    "    plt.bar([i], [row['2012']],\n",
    "            color=['#008bfc'], width=0.1, align='edge', edgecolor='none')\n",
    "    \n",
    " \n",
    "#plt.xlim(-0.6, 20.6)\n",
    "#plt.ylim(-12.1e6, 12.1e6)\n",
    "#plt.grid(False, axis='x')\n",
    "plt.xticks(np.arange(0, 5), DD_data ['RD'], fontsize=10)\n",
    "#plt.yticks(np.arange(-12e6, 13e6, 2e6),\n",
    "#           ['{}m'.format(int(abs(x) / 1e6)) if x != 0 else 0 for x in np.arange(-12e6, 13e6, 2e6)])\n",
    "plt.xlabel('REASON of death ')\n",
    "plt.ylabel('Number of death' )\n",
    "\n",
    "plt.savefig('pop_pyramid_rotated.pdf')"
   ]
  },
  {
   "cell_type": "code",
   "execution_count": 183,
   "metadata": {},
   "outputs": [
    {
     "data": {
      "text/plain": [
       "0    Malignant tumor\n",
       "1              HEART\n",
       "2          pneumonia\n",
       "3    Cerebrovascular\n",
       "4                  I\n",
       "Name: RD, dtype: object"
      ]
     },
     "execution_count": 183,
     "metadata": {},
     "output_type": "execute_result"
    }
   ],
   "source": [
    "# Data to plot\n",
    "labels = DD_data['RD']\n",
    "labels"
   ]
  },
  {
   "cell_type": "code",
   "execution_count": 184,
   "metadata": {},
   "outputs": [
    {
     "data": {
      "text/plain": [
       "0    38913\n",
       "1    15726\n",
       "2     8661\n",
       "3    10663\n",
       "4     8036\n",
       "Name: 2008, dtype: int64"
      ]
     },
     "execution_count": 184,
     "metadata": {},
     "output_type": "execute_result"
    }
   ],
   "source": [
    "sizes = DD_data['2008']\n",
    "sizes"
   ]
  },
  {
   "cell_type": "markdown",
   "metadata": {},
   "source": [
    "2017 年的全球失學兒共 482871 人\n",
    "最嚴重的地區是迦納 Ghana (位於西非的國家)"
   ]
  },
  {
   "cell_type": "code",
   "execution_count": 185,
   "metadata": {},
   "outputs": [
    {
     "data": {
      "text/plain": [
       "81999"
      ]
     },
     "execution_count": 185,
     "metadata": {},
     "output_type": "execute_result"
    }
   ],
   "source": [
    "all = pd.Series(sizes).sum()\n",
    "all"
   ]
  },
  {
   "cell_type": "code",
   "execution_count": 186,
   "metadata": {},
   "outputs": [
    {
     "data": {
      "image/png": "[encoded data removed]",
      "text/plain": [
       "<Figure size 432x288 with 1 Axes>"
      ]
     },
     "metadata": {},
     "output_type": "display_data"
    }
   ],
   "source": [
    "colors = ['gold', 'yellowgreen', 'lightcoral', 'lightskyblue', 'pink', 'yellow', 'red', 'blue']\n",
    "explode = (0.1, 0, 0, 0, 0, 0, 0, 0)  # explode 1st slice\n",
    " \n",
    "# Plot\n",
    "patches, texts, autotexts = plt.pie(sizes, colors = colors, autopct='%1.1f%%', startangle=90)\n",
    "\n",
    "plt.legend(patches, labels, loc=\"best\")\n",
    "plt.axis('equal')\n",
    "plt.tight_layout()\n",
    "plt.show()"
   ]
  },
  {
   "cell_type": "markdown",
   "metadata": {},
   "source": [
    "談討國家 GDP 與失學兒的關係，要考慮總人口數，變成探討失學率\n",
    "最嚴重的國家是吉布地 Djibouti (位於東非的國家)\n",
    "\n",
    "而聖多美普林西比 SaoTome and Principe (位於中部非洲的國家)\n",
    "在有限的資源下，即便 GDP 很低 (3.91億美元)，但兒童失學率卻只有 0.002682。\n",
    "是控制失學狀態最佳的國家。"
   ]
  },
  {
   "cell_type": "code",
   "execution_count": 200,
   "metadata": {},
   "outputs": [
    {
     "data": {
      "text/html": [
       "<div>\n",
       "<style scoped>\n",
       "    .dataframe tbody tr th:only-of-type {\n",
       "        vertical-align: middle;\n",
       "    }\n",
       "\n",
       "    .dataframe tbody tr th {\n",
       "        vertical-align: top;\n",
       "    }\n",
       "\n",
       "    .dataframe thead th {\n",
       "        text-align: right;\n",
       "    }\n",
       "</style>\n",
       "<table border=\"1\" class=\"dataframe\">\n",
       "  <thead>\n",
       "    <tr style=\"text-align: right;\">\n",
       "      <th></th>\n",
       "      <th>RD</th>\n",
       "      <th>Malignant tumor</th>\n",
       "      <th>HEART</th>\n",
       "      <th>pneumonia</th>\n",
       "      <th>Cerebrovascular</th>\n",
       "      <th>I</th>\n",
       "      <th>AIR</th>\n",
       "    </tr>\n",
       "  </thead>\n",
       "  <tbody>\n",
       "    <tr>\n",
       "      <th>0</th>\n",
       "      <td>2008</td>\n",
       "      <td>38913</td>\n",
       "      <td>15726</td>\n",
       "      <td>8661</td>\n",
       "      <td>10663</td>\n",
       "      <td>8036</td>\n",
       "      <td>20779</td>\n",
       "    </tr>\n",
       "    <tr>\n",
       "      <th>1</th>\n",
       "      <td>2009</td>\n",
       "      <td>39918</td>\n",
       "      <td>15094</td>\n",
       "      <td>8358</td>\n",
       "      <td>10383</td>\n",
       "      <td>8230</td>\n",
       "      <td>20799</td>\n",
       "    </tr>\n",
       "    <tr>\n",
       "      <th>2</th>\n",
       "      <td>2010</td>\n",
       "      <td>41046</td>\n",
       "      <td>15675</td>\n",
       "      <td>8909</td>\n",
       "      <td>10134</td>\n",
       "      <td>8211</td>\n",
       "      <td>20771</td>\n",
       "    </tr>\n",
       "    <tr>\n",
       "      <th>3</th>\n",
       "      <td>2011</td>\n",
       "      <td>42559</td>\n",
       "      <td>16513</td>\n",
       "      <td>9047</td>\n",
       "      <td>10823</td>\n",
       "      <td>9081</td>\n",
       "      <td>20721</td>\n",
       "    </tr>\n",
       "    <tr>\n",
       "      <th>4</th>\n",
       "      <td>2012</td>\n",
       "      <td>43665</td>\n",
       "      <td>17121</td>\n",
       "      <td>9314</td>\n",
       "      <td>11061</td>\n",
       "      <td>9281</td>\n",
       "      <td>21788</td>\n",
       "    </tr>\n",
       "  </tbody>\n",
       "</table>\n",
       "</div>"
      ],
      "text/plain": [
       "     RD  Malignant tumor  HEART  pneumonia  Cerebrovascular     I    AIR\n",
       "0  2008            38913  15726       8661            10663  8036  20779\n",
       "1  2009            39918  15094       8358            10383  8230  20799\n",
       "2  2010            41046  15675       8909            10134  8211  20771\n",
       "3  2011            42559  16513       9047            10823  9081  20721\n",
       "4  2012            43665  17121       9314            11061  9281  21788"
      ]
     },
     "execution_count": 200,
     "metadata": {},
     "output_type": "execute_result"
    }
   ],
   "source": [
    "%matplotlib inline\n",
    "import matplotlib.pyplot as plt\n",
    "import pandas as pd\n",
    "import numpy as np\n",
    "\n",
    "# This is a custom matplotlib style that I use for most of my charts\n",
    "# plt.style.use('tableau10.mplstyle')\n",
    "\n",
    "DDA_data = pd.read_csv('DDA.csv')\n",
    "DDA_data\n"
   ]
  },
  {
   "cell_type": "code",
   "execution_count": 203,
   "metadata": {},
   "outputs": [
    {
     "data": {
      "text/plain": [
       "0    20779\n",
       "1    20799\n",
       "2    20771\n",
       "3    20721\n",
       "4    21788\n",
       "Name: AIR, dtype: int64"
      ]
     },
     "execution_count": 203,
     "metadata": {},
     "output_type": "execute_result"
    }
   ],
   "source": [
    "x = DDA_data['AIR']\n",
    "x"
   ]
  },
  {
   "cell_type": "code",
   "execution_count": 205,
   "metadata": {},
   "outputs": [
    {
     "data": {
      "text/plain": [
       "0    8661\n",
       "1    8358\n",
       "2    8909\n",
       "3    9047\n",
       "4    9314\n",
       "Name: pneumonia, dtype: int64"
      ]
     },
     "execution_count": 205,
     "metadata": {},
     "output_type": "execute_result"
    }
   ],
   "source": [
    "y =DDA_data['pneumonia']\n",
    "y"
   ]
  },
  {
   "cell_type": "code",
   "execution_count": 206,
   "metadata": {},
   "outputs": [
    {
     "data": {
      "text/plain": [
       "[<matplotlib.lines.Line2D at 0x26b0f06dda0>]"
      ]
     },
     "execution_count": 206,
     "metadata": {},
     "output_type": "execute_result"
    },
    {
     "data": {
      "image/png": "[encoded data removed]",
      "text/plain": [
       "<Figure size 432x288 with 1 Axes>"
      ]
     },
     "metadata": {
      "needs_background": "light"
     },
     "output_type": "display_data"
    }
   ],
   "source": [
    "plt.plot(x,y, 'ro')"
   ]
  },
  {
   "cell_type": "code",
   "execution_count": 158,
   "metadata": {},
   "outputs": [
    {
     "data": {
      "text/plain": [
       "array([0, 1, 2, 3, 4])"
      ]
     },
     "execution_count": 158,
     "metadata": {},
     "output_type": "execute_result"
    }
   ],
   "source": [
    "np.arange(5)"
   ]
  },
  {
   "cell_type": "code",
   "execution_count": null,
   "metadata": {},
   "outputs": [],
   "source": [
    "np.array([4,3,2,1,0])"
   ]
  }
 ],
 "metadata": {
  "kernelspec": {
   "display_name": "Python 3",
   "language": "python",
   "name": "python3"
  },
  "language_info": {
   "codemirror_mode": {
    "name": "ipython",
    "version": 3
   },
   "file_extension": ".py",
   "mimetype": "text/x-python",
   "name": "python",
   "nbconvert_exporter": "python",
   "pygments_lexer": "ipython3",
   "version": "3.7.0"
  }
 },
 "nbformat": 4,
 "nbformat_minor": 1
}
